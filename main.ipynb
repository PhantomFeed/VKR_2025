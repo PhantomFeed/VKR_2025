{
 "cells": [
  {
   "cell_type": "code",
   "execution_count": 1,
   "id": "9968d418-c898-43d7-93f7-594454ec005a",
   "metadata": {},
   "outputs": [],
   "source": [
    "import torch\n",
    "import random\n",
    "from torchinfo import summary\n",
    "from torch.optim import Adam\n",
    "from torch.optim.lr_scheduler import ReduceLROnPlateau\n",
    "from torch.utils.data import ConcatDataset, DataLoader, Subset\n",
    "from tqdm import tqdm\n",
    "from config import Config\n",
    "from data_loader import *\n",
    "from model import CRNN\n",
    "from train import Trainer\n",
    "from utils import *\n",
    "from torch.nn import CTCLoss\n",
    "from augmentation import *\n",
    "import matplotlib.pyplot as plt\n",
    "import numpy as np"
   ]
  },
  {
   "cell_type": "code",
   "execution_count": 2,
   "id": "e2577598-b04f-4998-8287-1774fd741aba",
   "metadata": {},
   "outputs": [],
   "source": [
    "config = Config()\n",
    "random.seed(42)\n",
    "np.random.seed(0)\n",
    "# torch.backends.nnpack.enabled = False"
   ]
  },
  {
   "cell_type": "code",
   "execution_count": 3,
   "id": "d0c187b9-aade-4e2c-a88c-9f30ce040d1d",
   "metadata": {},
   "outputs": [],
   "source": [
    "# Загрузка данных\n",
    "train_transforms = get_augmented_transforms(config.input_size)\n",
    "val_transforms = get_transforms(config.input_size)\n",
    "\n",
    "cyrillic_train = CyrillicDataset(\n",
    "    root='Datasets/Cyrillic/train',\n",
    "    tsv_path='Datasets/Cyrillic/train.tsv',\n",
    "    transform=val_transforms)\n",
    "\n",
    "cyrillic_test = CyrillicDataset(\n",
    "    root='Datasets/Cyrillic/test',\n",
    "    tsv_path='Datasets/Cyrillic/test.tsv',\n",
    "    transform=val_transforms)\n",
    "\n",
    "mine = MineDataset(\n",
    "    root='Datasets/Mine/img',\n",
    "    tsv_path='Datasets/Mine/train.tsv',\n",
    "    transform=train_transforms)\n",
    "\n",
    "mine_aug = MineDataset(\n",
    "    root='Datasets/Mine/augs',\n",
    "    tsv_path='Datasets/Mine/augs.tsv',\n",
    "    transform=None)\n",
    "\n",
    "hkr_train = HKRDataset(\n",
    "    img_dir='Datasets/HKR/img',\n",
    "    ann_dir='Datasets/HKR/ann',\n",
    "    transform=val_transforms)"
   ]
  },
  {
   "cell_type": "code",
   "execution_count": 4,
   "id": "9d36af57-e65a-48ab-8595-01f90970ebb1",
   "metadata": {},
   "outputs": [],
   "source": [
    "cyrillic_train_set = random.sample(range(len(cyrillic_train)), 5000)\n",
    "# cyrillic_test_set = random.sample(range(len(cyrillic_test)), 1000)\n",
    "hrk_set = random.sample(range(len(hkr_train)), 5000)"
   ]
  },
  {
   "cell_type": "code",
   "execution_count": 5,
   "id": "cb12cbcb-276e-4d01-b286-18f65999d206",
   "metadata": {},
   "outputs": [],
   "source": [
    "cyrillic_train_val_indices = list(set(range(len(cyrillic_train))) - set(cyrillic_train_set))\n",
    "# cyrillic_test_val_indices = list(set(range(len(cyrillic_test))) - set(cyrillic_test_set))\n",
    "hrk_val_indices = list(set(range(len(hkr_train))) - set(hrk_set))\n",
    "\n",
    "train_set = ConcatDataset([\n",
    "    Subset(cyrillic_train, cyrillic_train_set),\n",
    "    # Subset(cyrillic_test, cyrillic_test_set),\n",
    "    Subset(hkr_train, hrk_set),\n",
    "    # mine_aug,\n",
    "    mine\n",
    "])\n",
    "\n",
    "cyrillic_val_set = random.sample(range(len(cyrillic_train_val_indices)), 4000)\n",
    "cyrillic_test_set = random.sample(range(len(cyrillic_test)), 1000)\n",
    "hrk_val_set = random.sample(range(len(hrk_val_indices)), 5000)\n",
    "\n",
    "val_set = ConcatDataset([\n",
    "    Subset(cyrillic_train, cyrillic_val_set),\n",
    "    Subset(cyrillic_test, cyrillic_test_set),\n",
    "    Subset(hkr_train, hrk_val_set),\n",
    "])"
   ]
  },
  {
   "cell_type": "code",
   "execution_count": 6,
   "id": "8e4c6ba9-e9fe-4a02-b75b-978cca98bf59",
   "metadata": {},
   "outputs": [],
   "source": [
    "# # Объединение датасетов\n",
    "# full_dataset = ConcatDataset([cyrillic_train, cyrillic_test, hkr_train])\n",
    "# train_size = int(config.train_ratio * len(full_dataset))\n",
    "# val_size = len(full_dataset) - train_size\n",
    "# train_set, val_set = torch.utils.data.random_split(full_dataset, [train_size, val_size])\n",
    "\n",
    "# train_set = ConcatDataset([train_set, mine])"
   ]
  },
  {
   "cell_type": "code",
   "execution_count": 7,
   "id": "301cc97e-96fc-482a-b521-edc7c128b7ab",
   "metadata": {},
   "outputs": [],
   "source": [
    "# train_set = AugmentedDataset(train_set, val_transforms)\n",
    "\n",
    "# val_set = AugmentedDataset(val_set, val_transforms)"
   ]
  },
  {
   "cell_type": "code",
   "execution_count": 8,
   "id": "6b53bf5b-d959-45f9-b084-75dd1b0d9cfc",
   "metadata": {},
   "outputs": [
    {
     "data": {
      "text/plain": [
       "11017"
      ]
     },
     "execution_count": 8,
     "metadata": {},
     "output_type": "execute_result"
    }
   ],
   "source": [
    "len(train_set)"
   ]
  },
  {
   "cell_type": "code",
   "execution_count": 9,
   "id": "c1b7d220-fb1b-4f7b-8269-5c2dc63dd098",
   "metadata": {},
   "outputs": [
    {
     "data": {
      "text/plain": [
       "(tensor([[[0.9922, 0.9922, 0.9922,  ..., 1.0000, 0.9843, 0.9843],\n",
       "          [0.9922, 0.9922, 0.9922,  ..., 1.0000, 0.9922, 0.9922],\n",
       "          [1.0000, 1.0000, 1.0000,  ..., 1.0000, 1.0000, 1.0000],\n",
       "          ...,\n",
       "          [0.9922, 0.9922, 1.0000,  ..., 0.9922, 0.9922, 0.9922],\n",
       "          [0.9922, 0.9922, 0.9922,  ..., 0.9686, 0.9608, 0.9529],\n",
       "          [0.9922, 0.9922, 0.9922,  ..., 0.9922, 0.9843, 0.9922]]]),\n",
       " 'прекрасно в нас')"
      ]
     },
     "execution_count": 9,
     "metadata": {},
     "output_type": "execute_result"
    }
   ],
   "source": [
    "train_set[5000]"
   ]
  },
  {
   "cell_type": "code",
   "execution_count": 10,
   "id": "a0d922e4-8829-42d6-9535-f1890cefee63",
   "metadata": {},
   "outputs": [
    {
     "data": {
      "image/png": "[encoded data removed]",
      "text/plain": [
       "<Figure size 640x480 with 1 Axes>"
      ]
     },
     "metadata": {},
     "output_type": "display_data"
    }
   ],
   "source": [
    "image_numpy = np.transpose(train_set[5000][0].numpy(), (1, 2, 0))\n",
    "# Отобразите изображение\n",
    "plt.imshow(image_numpy,cmap='gray')\n",
    "plt.show()"
   ]
  },
  {
   "cell_type": "code",
   "execution_count": 11,
   "id": "556a60d2-dc12-4213-a939-06fd830273fd",
   "metadata": {},
   "outputs": [
    {
     "data": {
      "text/plain": [
       "10000"
      ]
     },
     "execution_count": 11,
     "metadata": {},
     "output_type": "execute_result"
    }
   ],
   "source": [
    "len(val_set)"
   ]
  },
  {
   "cell_type": "code",
   "execution_count": 12,
   "id": "b7558da5-1d51-49c0-a74e-facace479330",
   "metadata": {},
   "outputs": [
    {
     "data": {
      "text/plain": [
       "(tensor([[[0.3961, 0.4039, 0.3569,  ..., 0.3569, 0.2863, 0.0980],\n",
       "          [0.3882, 0.4196, 0.3804,  ..., 0.3725, 0.2941, 0.1529],\n",
       "          [0.3725, 0.4039, 0.4275,  ..., 0.3255, 0.2627, 0.1686],\n",
       "          ...,\n",
       "          [0.1843, 0.1922, 0.1922,  ..., 0.1529, 0.1765, 0.0588],\n",
       "          [0.3725, 0.3725, 0.3490,  ..., 0.2078, 0.2706, 0.2157],\n",
       "          [0.3490, 0.3490, 0.3412,  ..., 0.3020, 0.3020, 0.2235]]]),\n",
       " 'применение')"
      ]
     },
     "execution_count": 12,
     "metadata": {},
     "output_type": "execute_result"
    }
   ],
   "source": [
    "val_set[10]"
   ]
  },
  {
   "cell_type": "code",
   "execution_count": 13,
   "id": "8b602d0b-e37f-46b2-9fc7-7868a40ac07d",
   "metadata": {},
   "outputs": [
    {
     "data": {
      "image/png": "[encoded data removed]",
      "text/plain": [
       "<Figure size 640x480 with 1 Axes>"
      ]
     },
     "metadata": {},
     "output_type": "display_data"
    }
   ],
   "source": [
    "image_numpy = np.transpose(val_set[10][0].numpy(), (1, 2, 0))\n",
    "# Отобразите изображение\n",
    "plt.imshow(image_numpy,cmap='gray')\n",
    "plt.show()"
   ]
  },
  {
   "cell_type": "code",
   "execution_count": 14,
   "id": "9d382bfe-5fb0-4301-887e-1111d2cf4388",
   "metadata": {},
   "outputs": [],
   "source": [
    "train_loader = DataLoader(train_set, batch_size=config.batch_size, shuffle=True, num_workers=4)\n",
    "val_loader = DataLoader(val_set, batch_size=config.batch_size, num_workers=4)"
   ]
  },
  {
   "cell_type": "code",
   "execution_count": 15,
   "id": "22617acb-30b5-43e0-b310-ba223dc4f5ca",
   "metadata": {},
   "outputs": [],
   "source": [
    "# Инициализация модели\n",
    "model = CRNN(config)\n",
    "optimizer = Adam(model.parameters(), lr=config.lr)\n",
    "scheduler = ReduceLROnPlateau(optimizer, mode='min', min_lr=0.0000001, factor=0.5, patience=3)"
   ]
  },
  {
   "cell_type": "code",
   "execution_count": 16,
   "id": "2658b8a6-da80-4ff3-b07b-f55bc372d0a5",
   "metadata": {},
   "outputs": [
    {
     "data": {
      "text/plain": [
       "==========================================================================================\n",
       "Layer (type:depth-idx)                   Output Shape              Param #\n",
       "==========================================================================================\n",
       "CRNN                                     [64, 128, 50]             --\n",
       "├─Sequential: 1-1                        [128, 256, 1, 64]         --\n",
       "│    └─Conv2d: 2-1                       [128, 64, 32, 256]        640\n",
       "│    └─ResBlock: 2-2                     [128, 64, 16, 256]        --\n",
       "│    │    └─Sequential: 3-1              [128, 64, 16, 256]        4,224\n",
       "│    │    └─Conv2d: 3-2                  [128, 64, 16, 256]        36,864\n",
       "│    │    └─BatchNorm2d: 3-3             [128, 64, 16, 256]        128\n",
       "│    │    └─ReLU: 3-4                    [128, 64, 16, 256]        --\n",
       "│    │    └─Conv2d: 3-5                  [128, 64, 16, 256]        36,864\n",
       "│    │    └─BatchNorm2d: 3-6             [128, 64, 16, 256]        128\n",
       "│    │    └─ReLU: 3-7                    [128, 64, 16, 256]        --\n",
       "│    └─ResBlock: 2-3                     [128, 128, 8, 128]        --\n",
       "│    │    └─Sequential: 3-8              [128, 128, 8, 128]        8,448\n",
       "│    │    └─Conv2d: 3-9                  [128, 128, 8, 128]        73,728\n",
       "│    │    └─BatchNorm2d: 3-10            [128, 128, 8, 128]        256\n",
       "│    │    └─ReLU: 3-11                   [128, 128, 8, 128]        --\n",
       "│    │    └─Conv2d: 3-12                 [128, 128, 8, 128]        147,456\n",
       "│    │    └─BatchNorm2d: 3-13            [128, 128, 8, 128]        256\n",
       "│    │    └─ReLU: 3-14                   [128, 128, 8, 128]        --\n",
       "│    └─ResBlock: 2-4                     [128, 128, 4, 128]        --\n",
       "│    │    └─Sequential: 3-15             [128, 128, 4, 128]        16,640\n",
       "│    │    └─Conv2d: 3-16                 [128, 128, 4, 128]        147,456\n",
       "│    │    └─BatchNorm2d: 3-17            [128, 128, 4, 128]        256\n",
       "│    │    └─ReLU: 3-18                   [128, 128, 4, 128]        --\n",
       "│    │    └─Conv2d: 3-19                 [128, 128, 4, 128]        147,456\n",
       "│    │    └─BatchNorm2d: 3-20            [128, 128, 4, 128]        256\n",
       "│    │    └─ReLU: 3-21                   [128, 128, 4, 128]        --\n",
       "│    └─ResBlock: 2-5                     [128, 256, 2, 64]         --\n",
       "│    │    └─Sequential: 3-22             [128, 256, 2, 64]         33,280\n",
       "│    │    └─Conv2d: 3-23                 [128, 256, 2, 64]         294,912\n",
       "│    │    └─BatchNorm2d: 3-24            [128, 256, 2, 64]         512\n",
       "│    │    └─ReLU: 3-25                   [128, 256, 2, 64]         --\n",
       "│    │    └─Conv2d: 3-26                 [128, 256, 2, 64]         589,824\n",
       "│    │    └─BatchNorm2d: 3-27            [128, 256, 2, 64]         512\n",
       "│    │    └─ReLU: 3-28                   [128, 256, 2, 64]         --\n",
       "│    └─ResBlock: 2-6                     [128, 256, 1, 64]         --\n",
       "│    │    └─Sequential: 3-29             [128, 256, 1, 64]         66,048\n",
       "│    │    └─Conv2d: 3-30                 [128, 256, 1, 64]         589,824\n",
       "│    │    └─BatchNorm2d: 3-31            [128, 256, 1, 64]         512\n",
       "│    │    └─ReLU: 3-32                   [128, 256, 1, 64]         --\n",
       "│    │    └─Conv2d: 3-33                 [128, 256, 1, 64]         589,824\n",
       "│    │    └─BatchNorm2d: 3-34            [128, 256, 1, 64]         512\n",
       "│    │    └─ReLU: 3-35                   [128, 256, 1, 64]         --\n",
       "├─LSTM: 1-2                              [64, 128, 256]            1,052,672\n",
       "├─Linear: 1-3                            [64, 128, 50]             12,850\n",
       "==========================================================================================\n",
       "Total params: 3,852,338\n",
       "Trainable params: 3,852,338\n",
       "Non-trainable params: 0\n",
       "Total mult-adds (Units.GIGABYTES): 125.80\n",
       "==========================================================================================\n",
       "Input size (MB): 4.19\n",
       "Forward/backward pass size (MB): 3677.49\n",
       "Params size (MB): 15.41\n",
       "Estimated Total Size (MB): 3697.09\n",
       "=========================================================================================="
      ]
     },
     "execution_count": 16,
     "metadata": {},
     "output_type": "execute_result"
    }
   ],
   "source": [
    "test_input = torch.randn(128, 1, 32, 256)  # Пример входа: [Batch Size, Channels, Height, Width]\n",
    "\n",
    "# Использование torchinfo для отображения информации о модели\n",
    "summary(model, input_data=test_input)"
   ]
  },
  {
   "cell_type": "code",
   "execution_count": 17,
   "id": "79cc8cab-663e-433f-b0e4-6f7d13205191",
   "metadata": {},
   "outputs": [],
   "source": [
    "trainer = Trainer(model, train_loader, val_loader, optimizer, config.device)"
   ]
  },
  {
   "cell_type": "code",
   "execution_count": 18,
   "id": "af781feb-e790-4e9c-a9a9-5e549a5dd484",
   "metadata": {
    "scrolled": true
   },
   "outputs": [
    {
     "name": "stderr",
     "output_type": "stream",
     "text": [
      "Epoch 1 [Train]:   0%|                                                                           | 0/87 [00:00<?, ?it/s][W602 19:41:49.635557237 NNPACK.cpp:62] Could not initialize NNPACK! Reason: Unsupported hardware.\n",
      "[W602 19:41:49.641409837 NNPACK.cpp:62] Could not initialize NNPACK! Reason: Unsupported hardware.\n",
      "[W602 19:41:49.655872036 NNPACK.cpp:62] Could not initialize NNPACK! Reason: Unsupported hardware.\n",
      "[W602 19:41:49.694379036 NNPACK.cpp:62] Could not initialize NNPACK! Reason: Unsupported hardware.\n",
      "Epoch 1 [Train]: 100%|█████████████████████████████████████████████████████| 87/87 [00:24<00:00,  3.57it/s, loss=3.8890]\n"
     ]
    },
    {
     "name": "stdout",
     "output_type": "stream",
     "text": [
      "Epoch 1: CER: 1.0000, WER: 1.0000, Loss: 4.9285, Val_loss: 3.6411,\n",
      "New best model saved with CER: 1.0\n",
      "Learning Rate: 0.001\n"
     ]
    },
    {
     "name": "stderr",
     "output_type": "stream",
     "text": [
      "Epoch 2 [Train]:   0%|                                                                           | 0/87 [00:00<?, ?it/s][W602 19:44:08.296946588 NNPACK.cpp:62] Could not initialize NNPACK! Reason: Unsupported hardware.\n",
      "[W602 19:44:08.320343584 NNPACK.cpp:62] Could not initialize NNPACK! Reason: Unsupported hardware.\n",
      "[W602 19:44:08.372839677 NNPACK.cpp:62] Could not initialize NNPACK! Reason: Unsupported hardware.\n",
      "[W602 19:44:08.520689956 NNPACK.cpp:62] Could not initialize NNPACK! Reason: Unsupported hardware.\n",
      "Epoch 2 [Train]: 100%|█████████████████████████████████████████████████████| 87/87 [00:23<00:00,  3.77it/s, loss=3.3705]\n"
     ]
    },
    {
     "name": "stdout",
     "output_type": "stream",
     "text": [
      "Epoch 2: CER: 1.0000, WER: 1.0000, Loss: 3.5344, Val_loss: 3.6170,\n",
      "Learning Rate: 0.001\n"
     ]
    },
    {
     "name": "stderr",
     "output_type": "stream",
     "text": [
      "Epoch 3 [Train]:   0%|                                                                           | 0/87 [00:00<?, ?it/s][W602 19:46:26.904559864 NNPACK.cpp:62] Could not initialize NNPACK! Reason: Unsupported hardware.\n",
      "[W602 19:46:26.915446063 NNPACK.cpp:62] Could not initialize NNPACK! Reason: Unsupported hardware.\n",
      "[W602 19:46:26.943847362 NNPACK.cpp:62] Could not initialize NNPACK! Reason: Unsupported hardware.\n",
      "[W602 19:46:26.976915660 NNPACK.cpp:62] Could not initialize NNPACK! Reason: Unsupported hardware.\n",
      "Epoch 3 [Train]: 100%|█████████████████████████████████████████████████████| 87/87 [00:23<00:00,  3.73it/s, loss=3.7096]\n",
      "\n",
      "KeyboardInterrupt\n",
      "\n"
     ]
    }
   ],
   "source": [
    "train_losses = []\n",
    "val_losses = []\n",
    "val_cer = []\n",
    "val_wer = []\n",
    "\n",
    "# Ранняя остановка\n",
    "best_cer = float('inf')\n",
    "# best_val_loss = float('inf')\n",
    "patience = 7\n",
    "counter = 0\n",
    "\n",
    "for epoch in range(config.epochs):\n",
    "    # Обучение\n",
    "    train_loss = trainer.train_epoch(epoch + 1)\n",
    "    \n",
    "    # Валидация\n",
    "    val_loss, cer, wer = trainer.validate(epoch + 1)\n",
    "    \n",
    "    # Сохранение метрик\n",
    "    train_losses.append(train_loss)\n",
    "    val_losses.append(val_loss)\n",
    "    val_cer.append(cer)\n",
    "    val_wer.append(wer)\n",
    "\n",
    "    print(f'Epoch {epoch + 1}: CER: {cer:.4f}, WER: {wer:.4f}, Loss: {train_loss:.4f}, Val_loss: {val_loss:.4f},')\n",
    "    \n",
    "    # Ранняя остановка\n",
    "    if cer < best_cer:\n",
    "        best_cer = cer\n",
    "        print(f\"New best model saved with CER: {best_cer}\")\n",
    "        torch.save(model.state_dict(), 'Zaezd10k.pth')\n",
    "        counter = 0\n",
    "    else:\n",
    "        counter += 1\n",
    "        if counter >= patience:\n",
    "            print(\"Early stopping\")\n",
    "            break\n",
    "    # if val_loss < best_val_loss:\n",
    "    #     best_val_loss = val_loss\n",
    "    #     print(f\"New best model saved with Val_Loss: {best_val_loss}\")\n",
    "    #     torch.save(model.state_dict(), 'best_model_minedata32_aug1.pth')\n",
    "    #     counter = 0\n",
    "    # else:\n",
    "    #     counter += 1\n",
    "    #     if counter >= patience:\n",
    "    #         print(\"Early stopping\")\n",
    "    #         break\n",
    "    \n",
    "    # Обновление learning rate\n",
    "    scheduler.step(cer)\n",
    "    \n",
    "    print(f'Learning Rate: {scheduler.optimizer.param_groups[0][\"lr\"]}')"
   ]
  },
  {
   "cell_type": "code",
   "execution_count": null,
   "id": "52bb2485-8745-4fcf-98c8-3de71d79397a",
   "metadata": {
    "scrolled": true
   },
   "outputs": [],
   "source": [
    "model.load_state_dict(torch.load('Zaezd10k.pth'))\n",
    "model.eval()"
   ]
  },
  {
   "cell_type": "code",
   "execution_count": null,
   "id": "87cdeaef-dc24-435d-9688-17ade21ed89f",
   "metadata": {},
   "outputs": [],
   "source": [
    "visualize_predictions(model, val_loader, trainer.text_encoder, num_samples=20)"
   ]
  },
  {
   "cell_type": "code",
   "execution_count": null,
   "id": "54923ada-9eea-4892-88fc-b31558ce9dd0",
   "metadata": {},
   "outputs": [],
   "source": [
    "# torch.save(model.state_dict(), 'ocr_model.pth')"
   ]
  },
  {
   "cell_type": "code",
   "execution_count": null,
   "id": "593152d3-cf81-4a6c-a527-2dc5e39c9224",
   "metadata": {},
   "outputs": [],
   "source": [
    "plot_metrics(train_losses, val_losses, val_cer, val_wer)"
   ]
  },
  {
   "cell_type": "code",
   "execution_count": null,
   "id": "87d2607b-7fe1-4a53-827d-ce1952e38fb4",
   "metadata": {},
   "outputs": [],
   "source": [
    "val_losses"
   ]
  },
  {
   "cell_type": "code",
   "execution_count": null,
   "id": "9987c4ac-21a9-462d-9fd1-58e507858652",
   "metadata": {},
   "outputs": [],
   "source": []
  },
  {
   "cell_type": "code",
   "execution_count": null,
   "id": "dd29f407-9c0d-4e6a-ae1a-461d54ecf743",
   "metadata": {},
   "outputs": [],
   "source": []
  }
 ],
 "metadata": {
  "kernelspec": {
   "display_name": "Python 3 (ipykernel)",
   "language": "python",
   "name": "python3"
  },
  "language_info": {
   "codemirror_mode": {
    "name": "ipython",
    "version": 3
   },
   "file_extension": ".py",
   "mimetype": "text/x-python",
   "name": "python",
   "nbconvert_exporter": "python",
   "pygments_lexer": "ipython3",
   "version": "3.12.3"
  }
 },
 "nbformat": 4,
 "nbformat_minor": 5
}
